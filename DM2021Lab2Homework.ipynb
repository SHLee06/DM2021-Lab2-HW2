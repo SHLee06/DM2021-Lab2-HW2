{
 "cells": [
  {
   "cell_type": "markdown",
   "metadata": {},
   "source": [
    "### Student Information\n",
<<<<<<< HEAD
    "Name: 李書卉\n",
    "\n",
    "Student ID: 109065702\n",
    "\n",
    "GitHub ID: SHLee\n",
    "\n",
    "Kaggle name: Leeeeeeeeee\n",
=======
    "Name:\n",
    "\n",
    "Student ID:\n",
    "\n",
    "GitHub ID:\n",
    "\n",
    "Kaggle name:\n",
>>>>>>> eff63662fe9b555a9cb7a12ff5b3a312cbb04896
    "\n",
    "Kaggle private scoreboard snapshot:\n",
    "\n",
    "[Snapshot](img/pic0.png)"
   ]
  },
  {
   "cell_type": "markdown",
   "metadata": {},
   "source": [
    "---"
   ]
  },
  {
   "cell_type": "markdown",
   "metadata": {},
   "source": [
    "### Instructions"
   ]
  },
  {
   "cell_type": "markdown",
   "metadata": {},
   "source": [
    "1. First: __This part is worth 30% of your grade.__ Do the **take home** exercises in the [DM2021-Lab2-master Repo](https://github.com/fhcalderon87/DM2021-Lab2-master). You may need to copy some cells from the Lab notebook to this notebook. \n",
    "\n",
    "\n",
    "2. Second: __This part is worth 30% of your grade.__ Participate in the in-class [Kaggle Competition](https://www.kaggle.com/c/dm2021-lab2-hw2/) regarding Emotion Recognition on Twitter. The scoring will be given according to your place in the Private Leaderboard ranking: \n",
    "    - **Bottom 40%**: Get 20% of the 30% available for this section.\n",
    "\n",
    "    - **Top 41% - 100%**: Get (60-x)/6 + 20 points, where x is your ranking in the leaderboard (ie. If you rank 3rd your score will be (60-3)/6 + 20 = 29.5% out of 30%)   \n",
    "    Submit your last submission __BEFORE the deadline (Dec. 24th 11:59 pm, Friday)__. Make sure to take a screenshot of your position at the end of the competition and store it as '''pic0.png''' under the **img** folder of this repository and rerun the cell **Student Information**.\n",
    "    \n",
    "\n",
    "3. Third: __This part is worth 30% of your grade.__ A report of your work developping the model for the competition (You can use code and comment it). This report should include what your preprocessing steps, the feature engineering steps and an explanation of your model. You can also mention different things you tried and insights you gained. \n",
    "\n",
    "\n",
    "4. Fourth: __This part is worth 10% of your grade.__ It's hard for us to follow if your code is messy :'(, so please **tidy up your notebook** and **add minimal comments where needed**.\n",
    "\n",
    "\n",
    "Upload your files to your repository then submit the link to it on the corresponding e-learn assignment.\n",
    "\n",
    "Make sure to commit and save your changes to your repository __BEFORE the deadline (Dec. 29th 11:59 pm, Wednesday)__. "
   ]
  },
  {
<<<<<<< HEAD
   "cell_type": "markdown",
   "metadata": {},
   "source": [
    "---\n",
    "## Part 1 - Take Home Exercises"
   ]
  },
  {
   "cell_type": "markdown",
   "metadata": {},
   "source": [
    "#### Additional steps"
   ]
  },
  {
=======
>>>>>>> eff63662fe9b555a9cb7a12ff5b3a312cbb04896
   "cell_type": "code",
   "execution_count": 2,
   "metadata": {},
   "outputs": [],
   "source": [
<<<<<<< HEAD
    "import pandas as pd\n",
    "\n",
    "### training data\n",
    "anger_train = pd.read_csv(\"data/semeval/train/anger-ratings-0to1.train.txt\",\n",
    "                         sep=\"\\t\", header=None,names=[\"id\", \"text\", \"emotion\", \"intensity\"])\n",
    "sadness_train = pd.read_csv(\"data/semeval/train/sadness-ratings-0to1.train.txt\",\n",
    "                         sep=\"\\t\", header=None, names=[\"id\", \"text\", \"emotion\", \"intensity\"])\n",
    "fear_train = pd.read_csv(\"data/semeval/train/fear-ratings-0to1.train.txt\",\n",
    "                         sep=\"\\t\", header=None, names=[\"id\", \"text\", \"emotion\", \"intensity\"])\n",
    "joy_train = pd.read_csv(\"data/semeval/train/joy-ratings-0to1.train.txt\",\n",
    "                         sep=\"\\t\", header=None, names=[\"id\", \"text\", \"emotion\", \"intensity\"])\n",
    "# combine 4 sub-dataset\n",
    "train_df = pd.concat([anger_train, fear_train, joy_train, sadness_train], ignore_index=True)\n",
    "\n",
    "### testing data\n",
    "anger_test = pd.read_csv(\"data/semeval/dev/anger-ratings-0to1.dev.gold.txt\",\n",
    "                         sep=\"\\t\", header=None, names=[\"id\", \"text\", \"emotion\", \"intensity\"])\n",
    "sadness_test = pd.read_csv(\"data/semeval/dev/sadness-ratings-0to1.dev.gold.txt\",\n",
    "                         sep=\"\\t\", header=None, names=[\"id\", \"text\", \"emotion\", \"intensity\"])\n",
    "fear_test = pd.read_csv(\"data/semeval/dev/fear-ratings-0to1.dev.gold.txt\",\n",
    "                         sep=\"\\t\", header=None, names=[\"id\", \"text\", \"emotion\", \"intensity\"])\n",
    "joy_test = pd.read_csv(\"data/semeval/dev/joy-ratings-0to1.dev.gold.txt\",\n",
    "                         sep=\"\\t\", header=None, names=[\"id\", \"text\", \"emotion\", \"intensity\"])\n",
    "# combine 4 sub-dataset\n",
    "test_df = pd.concat([anger_test, fear_test, joy_test, sadness_test], ignore_index=True)\n",
    "\n",
    "# shuffle dataset\n",
    "train_df = train_df.sample(frac=1)\n",
    "test_df = test_df.sample(frac=1)"
   ]
  },
  {
   "cell_type": "markdown",
   "metadata": {},
   "source": [
    "---\n",
    "### ** >>> Exercise 1 (Take home): **  \n",
    "Plot word frequency for Top 30 words in both train and test dataset. (Hint: refer to DM lab 1)\n"
   ]
  },
  {
   "cell_type": "code",
   "execution_count": 4,
   "metadata": {},
   "outputs": [
    {
     "data": {
      "text/plain": [
       "<matplotlib.axes._subplots.AxesSubplot at 0x7f9c90531790>"
      ]
     },
     "execution_count": 4,
     "metadata": {},
     "output_type": "execute_result"
    },
    {
     "data": {
      "image/png": "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",
      "text/plain": [
       "<Figure size 432x288 with 1 Axes>"
      ]
     },
     "metadata": {
      "needs_background": "light"
     },
     "output_type": "display_data"
    }
   ],
   "source": [
    "# Answer here\n",
    "yay = pd.concat([train_df, test_df], ignore_index=True)\n",
    "pd.Series(' '.join(yay.text).split()).value_counts()[:30].plot(kind='barh')"
   ]
  },
  {
   "cell_type": "markdown",
   "metadata": {},
   "source": [
    "---\n",
    "### ** >>> Exercise 2 (Take home): **  \n",
    "Generate an embedding using the TF-IDF vectorizer instead of th BOW one with 1000 features and show the feature names for features [100:110]."
   ]
  },
  {
   "cell_type": "code",
   "execution_count": null,
   "metadata": {},
   "outputs": [],
   "source": [
    "# Answer here\n"
   ]
  },
  {
   "cell_type": "markdown",
   "metadata": {},
   "source": [
    "---\n",
    "### ** >>> Exercise 3 (Take home): **  \n",
    "<table><tr>\n",
    "    <td><img src=\"img/pic3.png\" style=\"width: 250px;\"/> </td>\n",
    "</tr></table>\n",
    "\n",
    "Can you interpret the results above? What do they mean?"
   ]
  },
  {
   "cell_type": "code",
   "execution_count": null,
   "metadata": {},
   "outputs": [],
   "source": [
    "# Answer here\n"
   ]
  },
  {
   "cell_type": "markdown",
   "metadata": {},
   "source": [
    "---\n",
    "### ** >>> Exercise 4 (Take home): **  \n",
    "Build a model using a ```Naive Bayes``` model and train it. What are the testing results? \n",
    "\n",
    "*Reference*: https://scikit-learn.org/stable/modules/generated/sklearn.naive_bayes.MultinomialNB.html"
   ]
  },
  {
   "cell_type": "code",
   "execution_count": null,
   "metadata": {},
   "outputs": [],
   "source": [
    "# Answer here\n"
   ]
  },
  {
   "cell_type": "markdown",
   "metadata": {},
   "source": [
    "---\n",
    "### ** >>> Exercise 5 (Take home): **  \n",
    "\n",
    "How do the results from the Naive Bayes model and the Decision Tree model compare? How do you interpret these differences? Use the theoretical background covered in class to try and explain these differences."
   ]
  },
  {
   "cell_type": "code",
   "execution_count": null,
   "metadata": {},
   "outputs": [],
   "source": [
    "# Answer here\n"
   ]
  },
  {
   "cell_type": "markdown",
   "metadata": {},
   "source": [
    "---\n",
    "### ** >>> Exercise 6 (Take home): **  \n",
    "\n",
    "Plot the Training and Validation Accuracy and Loss (different plots), just like the images below (Note: the pictures below are an example from a different model). How to interpret the graphs you got? How are they related to the concept of overfitting/underfitting covered in class?\n",
    "<table><tr>\n",
    "    <td><img src=\"img/pic1.png\" style=\"width: 300px;\"/> </td>\n",
    "    <td><img src=\"img/pic2.png\" style=\"width: 300px;\"/> </td>\n",
    "</tr></table>"
   ]
  },
  {
   "cell_type": "code",
   "execution_count": null,
   "metadata": {},
   "outputs": [],
   "source": [
    "# Answer here\n"
   ]
  },
  {
   "cell_type": "markdown",
   "metadata": {},
   "source": [
    "---\n",
    "### ** >>> Exercise 7 (Take home): **  \n",
    "\n",
    "Now, we have the word vectors, but our input data is a sequence of words (or say sentence). \n",
    "How can we utilize these \"word\" vectors to represent the sentence data and train our model?\n"
   ]
  },
  {
   "cell_type": "code",
   "execution_count": null,
   "metadata": {},
   "outputs": [],
   "source": [
    "# Answer here\n"
   ]
  },
  {
   "cell_type": "markdown",
   "metadata": {},
   "source": [
    "---\n",
    "### ** >>> Exercise 8 (Take home): **  \n",
    "\n",
    "Generate a t-SNE visualization to show the 15 words most related to the words \"angry\", \"happy\", \"sad\", \"fear\" (60 words total)."
   ]
  },
  {
   "cell_type": "code",
   "execution_count": null,
   "metadata": {},
   "outputs": [],
   "source": [
    "# Answer here\n"
   ]
  },
  {
   "cell_type": "markdown",
   "metadata": {},
   "source": [
    "---\n",
    "## Part 2 - Kaggle Emotion Recognition"
   ]
  },
  {
   "cell_type": "markdown",
   "metadata": {},
   "source": [
    "### 2.1 Preprocessing"
   ]
  },
  {
   "cell_type": "code",
   "execution_count": null,
   "metadata": {},
   "outputs": [],
   "source": []
  },
  {
   "cell_type": "markdown",
   "metadata": {},
   "source": [
    "### 2.2 Feature Engineering"
   ]
  },
  {
   "cell_type": "code",
   "execution_count": null,
   "metadata": {},
   "outputs": [],
   "source": []
  },
  {
   "cell_type": "markdown",
   "metadata": {},
   "source": [
    "### 2.3 Model"
   ]
  },
  {
   "cell_type": "code",
   "execution_count": null,
   "metadata": {},
   "outputs": [],
   "source": []
=======
    "### Begin Assignment Here"
   ]
>>>>>>> eff63662fe9b555a9cb7a12ff5b3a312cbb04896
  }
 ],
 "metadata": {
  "kernelspec": {
   "display_name": "Python 3",
   "language": "python",
   "name": "python3"
  },
  "language_info": {
   "codemirror_mode": {
    "name": "ipython",
    "version": 3
   },
   "file_extension": ".py",
   "mimetype": "text/x-python",
   "name": "python",
   "nbconvert_exporter": "python",
   "pygments_lexer": "ipython3",
<<<<<<< HEAD
   "version": "3.8.10"
=======
   "version": "3.6.12"
>>>>>>> eff63662fe9b555a9cb7a12ff5b3a312cbb04896
  },
  "varInspector": {
   "cols": {
    "lenName": 16,
    "lenType": 16,
    "lenVar": 40
   },
   "kernels_config": {
    "python": {
     "delete_cmd_postfix": "",
     "delete_cmd_prefix": "del ",
     "library": "var_list.py",
     "varRefreshCmd": "print(var_dic_list())"
    },
    "r": {
     "delete_cmd_postfix": ") ",
     "delete_cmd_prefix": "rm(",
     "library": "var_list.r",
     "varRefreshCmd": "cat(var_dic_list()) "
    }
   },
   "types_to_exclude": [
    "module",
    "function",
    "builtin_function_or_method",
    "instance",
    "_Feature"
   ],
   "window_display": false
  }
 },
 "nbformat": 4,
 "nbformat_minor": 2
}
